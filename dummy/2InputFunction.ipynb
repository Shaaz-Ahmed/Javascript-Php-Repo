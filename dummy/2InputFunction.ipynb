{
 "cells": [
  {
   "cell_type": "code",
   "execution_count": 1,
   "id": "7ff84247-ecc9-4d98-825c-731aaeae4dfd",
   "metadata": {},
   "outputs": [
    {
     "name": "stdin",
     "output_type": "stream",
     "text": [
      "Enter your name Shaaz\n"
     ]
    },
    {
     "name": "stdout",
     "output_type": "stream",
     "text": [
      "Shaaz\n"
     ]
    }
   ],
   "source": [
    "a = input (\"Enter your name\")\n",
    "print(a)"
   ]
  },
  {
   "cell_type": "code",
   "execution_count": 4,
   "id": "77be0406-e9a3-47bc-aa43-378c6afa8d89",
   "metadata": {},
   "outputs": [
    {
     "name": "stdin",
     "output_type": "stream",
     "text": [
      "Enter your name Shaaz\n"
     ]
    },
    {
     "name": "stdout",
     "output_type": "stream",
     "text": [
      "Name is :Shaaz\n"
     ]
    }
   ],
   "source": [
    "a = input (\"Enter your name\")\n",
    "print('Name is :' + a)"
   ]
  },
  {
   "cell_type": "code",
   "execution_count": 5,
   "id": "396e7b43-5d08-4562-a031-8ffc6587e6c4",
   "metadata": {},
   "outputs": [
    {
     "name": "stdin",
     "output_type": "stream",
     "text": [
      "Enter your College Name MIT\n",
      "Enter your address Navi Mumbai\n"
     ]
    },
    {
     "name": "stdout",
     "output_type": "stream",
     "text": [
      "MITNavi Mumbai\n"
     ]
    }
   ],
   "source": [
    "cname = input(\"Enter your College Name\")\n",
    "loc = input(\"Enter your address\")\n",
    "print(cname + loc)"
   ]
  },
  {
   "cell_type": "code",
   "execution_count": 7,
   "id": "dde01898-d8de-43a3-8292-93ca6e5711e9",
   "metadata": {},
   "outputs": [
    {
     "name": "stdin",
     "output_type": "stream",
     "text": [
      "Enter the Value of A 10\n",
      "Enter the value of B 20\n"
     ]
    },
    {
     "name": "stdout",
     "output_type": "stream",
     "text": [
      "a = 20\n",
      "b = 10\n"
     ]
    }
   ],
   "source": [
    "#Program for swap two numbers in python\n",
    "a = input (\"Enter the Value of A\")\n",
    "b = input (\"Enter the value of B\")\n",
    "temp = a \n",
    "a = b \n",
    "b = temp\n",
    "print(\"a = \" +a)\n",
    "print(\"b = \" + b)"
   ]
  },
  {
   "cell_type": "code",
   "execution_count": null,
   "id": "884b9eac-0c26-4534-9a8e-de5818740f72",
   "metadata": {},
   "outputs": [],
   "source": []
  }
 ],
 "metadata": {
  "kernelspec": {
   "display_name": "Python 3 (ipykernel)",
   "language": "python",
   "name": "python3"
  },
  "language_info": {
   "codemirror_mode": {
    "name": "ipython",
    "version": 3
   },
   "file_extension": ".py",
   "mimetype": "text/x-python",
   "name": "python",
   "nbconvert_exporter": "python",
   "pygments_lexer": "ipython3",
   "version": "3.12.1"
  }
 },
 "nbformat": 4,
 "nbformat_minor": 5
}
